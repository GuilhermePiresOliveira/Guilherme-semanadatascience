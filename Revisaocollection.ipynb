{
 "cells": [
  {
   "cell_type": "code",
   "execution_count": 28,
   "metadata": {},
   "outputs": [
    {
     "data": {
      "text/plain": [
       "list"
      ]
     },
     "execution_count": 28,
     "metadata": {},
     "output_type": "execute_result"
    }
   ],
   "source": [
    "lista_times = ['vasco', 'flamengo', 'fluminense','sao paulo']\n",
    "type(lista_times)"
   ]
  },
  {
   "cell_type": "code",
   "execution_count": 29,
   "metadata": {},
   "outputs": [
    {
     "data": {
      "text/plain": [
       "tuple"
      ]
     },
     "execution_count": 29,
     "metadata": {},
     "output_type": "execute_result"
    }
   ],
   "source": [
    "tupla_times = ('vasco', 'flamengo', 'fluminense','sao paulo')\n",
    "type(tupla_times)"
   ]
  },
  {
   "cell_type": "code",
   "execution_count": 30,
   "metadata": {},
   "outputs": [
    {
     "data": {
      "text/plain": [
       "set"
      ]
     },
     "execution_count": 30,
     "metadata": {},
     "output_type": "execute_result"
    }
   ],
   "source": [
    "conjunto_times = {'vasco', 'flamengo', 'fluminense','sao paulo'}\n",
    "type(conjunto_times)"
   ]
  },
  {
   "cell_type": "code",
   "execution_count": 36,
   "metadata": {},
   "outputs": [
    {
     "name": "stdout",
     "output_type": "stream",
     "text": [
      "vencedor\n",
      "{'vasco': 'OI', 'flu': 'grande'}\n"
     ]
    }
   ],
   "source": [
    "dicionario_times = {'vasco':'vencedor', 'flu':'grande'}\n",
    "type(dicionario_times)\n",
    "\n",
    "print(dicionario_times['vasco']) #mostrando\n",
    "\n",
    "dicionario_times['vasco'] = 'OI'\n",
    "\n",
    "print(dicionario_times)"
   ]
  }
 ],
 "metadata": {
  "kernelspec": {
   "display_name": ".venv",
   "language": "python",
   "name": "python3"
  },
  "language_info": {
   "codemirror_mode": {
    "name": "ipython",
    "version": 3
   },
   "file_extension": ".py",
   "mimetype": "text/x-python",
   "name": "python",
   "nbconvert_exporter": "python",
   "pygments_lexer": "ipython3",
   "version": "3.12.4"
  }
 },
 "nbformat": 4,
 "nbformat_minor": 2
}
