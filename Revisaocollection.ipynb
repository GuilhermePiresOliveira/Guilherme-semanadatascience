{
 "cells": [
  {
   "cell_type": "markdown",
   "metadata": {},
   "source": [
    "### <b>LISTA\n",
    "\n",
    "<i>As listas em Python são estruturas de dados que permitem armazenar diversos valores em uma única variável.</i>\n",
    "\n"
   ]
  },
  {
   "cell_type": "code",
   "execution_count": 1,
   "metadata": {},
   "outputs": [
    {
     "data": {
      "text/plain": [
       "list"
      ]
     },
     "execution_count": 1,
     "metadata": {},
     "output_type": "execute_result"
    }
   ],
   "source": [
    "lista_times = ['vasco', 'flamengo', 'fluminense','sao paulo']\n",
    "type(lista_times)"
   ]
  },
  {
   "cell_type": "markdown",
   "metadata": {},
   "source": [
    "### <b>TUPLA\n",
    "\n",
    "<i> Uma tupla em Python é uma coleção de elementos ordenados que não pode ser alterada após ser criada.\n"
   ]
  },
  {
   "cell_type": "code",
   "execution_count": 29,
   "metadata": {},
   "outputs": [
    {
     "data": {
      "text/plain": [
       "tuple"
      ]
     },
     "execution_count": 29,
     "metadata": {},
     "output_type": "execute_result"
    }
   ],
   "source": [
    "tupla_times = ('vasco', 'flamengo', 'fluminense','sao paulo')\n",
    "type(tupla_times)"
   ]
  },
  {
   "cell_type": "markdown",
   "metadata": {},
   "source": [
    "### <b>CONJUNTO\n",
    "\n",
    "<i>Um conjunto é uma coleção não ordenada de elementos únicos. "
   ]
  },
  {
   "cell_type": "code",
   "execution_count": 30,
   "metadata": {},
   "outputs": [
    {
     "data": {
      "text/plain": [
       "set"
      ]
     },
     "execution_count": 30,
     "metadata": {},
     "output_type": "execute_result"
    }
   ],
   "source": [
    "conjunto_times = {'vasco', 'flamengo', 'fluminense','sao paulo'}\n",
    "type(conjunto_times)"
   ]
  },
  {
   "cell_type": "markdown",
   "metadata": {},
   "source": [
    "### <b>DICIONARIO\n",
    "\n",
    "<i>Um dicionário é uma estrutura de dados que permite associar valores a chaves. Cada chave é usada para indexar um valor específico no dicionário."
   ]
  },
  {
   "cell_type": "code",
   "execution_count": 2,
   "metadata": {},
   "outputs": [
    {
     "name": "stdout",
     "output_type": "stream",
     "text": [
      "vencedor , campeao\n",
      "{'vasco': 'vencedor , campeao', 'flu': 'grande'}\n"
     ]
    }
   ],
   "source": [
    "dicionario_times = {'vasco':'vencedor , campeao', 'flu':'grande'}\n",
    "type(dicionario_times)\n",
    "\n",
    "print(dicionario_times['vasco']) #mostrando\n",
    "\n",
    "dicionario_times['vasco'] \n",
    "\n",
    "print(dicionario_times)"
   ]
  }
 ],
 "metadata": {
  "kernelspec": {
   "display_name": ".venv",
   "language": "python",
   "name": "python3"
  },
  "language_info": {
   "codemirror_mode": {
    "name": "ipython",
    "version": 3
   },
   "file_extension": ".py",
   "mimetype": "text/x-python",
   "name": "python",
   "nbconvert_exporter": "python",
   "pygments_lexer": "ipython3",
   "version": "3.12.3"
  }
 },
 "nbformat": 4,
 "nbformat_minor": 2
}
